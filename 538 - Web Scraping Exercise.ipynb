{
 "cells": [
  {
   "cell_type": "code",
   "execution_count": null,
   "metadata": {},
   "outputs": [],
   "source": [
    "print 2"
   ]
  },
  {
   "cell_type": "code",
   "execution_count": null,
   "metadata": {},
   "outputs": [],
   "source": [
    "print(2)"
   ]
  },
  {
   "cell_type": "code",
   "execution_count": null,
   "metadata": {},
   "outputs": [],
   "source": [
    "results = soup.find(id='ResultsContainer')"
   ]
  },
  {
   "cell_type": "code",
   "execution_count": null,
   "metadata": {},
   "outputs": [],
   "source": [
    "print(results.prettify())"
   ]
  },
  {
   "cell_type": "code",
   "execution_count": null,
   "metadata": {},
   "outputs": [],
   "source": [
    "import requests\n",
    "from bs4 import BeautifulSoup\n",
    "\n",
    "URL = 'https://www.monster.com/jobs/search/?q=Software-Developer&where=Australia'\n",
    "page = requests.get(URL)\n",
    "\n",
    "soup = BeautifulSoup(page.content, 'html.parser')\n",
    "results = soup.find(id='ResultsContainer')\n",
    "print(results.prettify())"
   ]
  },
  {
   "cell_type": "code",
   "execution_count": null,
   "metadata": {},
   "outputs": [],
   "source": [
    "import requests\n",
    "from bs4 import BeautifulSoup\n",
    "\n",
    "URL = 'https://projects.fivethirtyeight.com/2020-nba-predictions/'\n",
    "page = requests.get(URL)\n",
    "soup = BeautifulSoup(page.content, 'html.parser')\n",
    "\n",
    "table = soup.find('table', id=\"standings-table\")\n",
    "rows = table.findAll('tr')\n",
    "print(rows)"
   ]
  },
  {
   "cell_type": "code",
   "execution_count": null,
   "metadata": {},
   "outputs": [],
   "source": [
    "print(table)"
   ]
  },
  {
   "cell_type": "code",
   "execution_count": null,
   "metadata": {},
   "outputs": [],
   "source": [
    "import pandas as pd\n",
    "\n",
    "page = pd.read_html('https://projects.fivethirtyeight.com/2020-nba-predictions/')\n",
    "type(page)"
   ]
  },
  {
   "cell_type": "code",
   "execution_count": null,
   "metadata": {},
   "outputs": [],
   "source": [
    "print(page)"
   ]
  },
  {
   "cell_type": "code",
   "execution_count": null,
   "metadata": {},
   "outputs": [],
   "source": [
    "import pandas as pd\n",
    "\n",
    "table = pd.read_html('https://projects.fivethirtyeight.com/2020-nba-predictions/')\n",
    "type(table)"
   ]
  },
  {
   "cell_type": "code",
   "execution_count": null,
   "metadata": {},
   "outputs": [],
   "source": [
    "import pandas as pd\n",
    "import requests\n",
    "from bs4 import BeautifulSoup\n",
    "\n",
    "res = requests.get('https://projects.fivethirtyeight.com/2020-nba-predictions/')\n",
    "soup = BeautifulSoup(res.content,'lxml')\n",
    "table = soup.find_all('table')[0] \n",
    "table_rows = table.find_all('tr')\n",
    "\n",
    "for tr in table_rows:\n",
    "    td = tr.find_all('td')\n",
    "    row = [tr.text for tr in td]\n",
    "    type(td)\n",
    "    #print(row) \n",
    "\n",
    "    \n",
    "#type(row)\n"
   ]
  },
  {
   "cell_type": "code",
   "execution_count": null,
   "metadata": {},
   "outputs": [],
   "source": [
    "print(page[50])"
   ]
  },
  {
   "cell_type": "code",
   "execution_count": null,
   "metadata": {},
   "outputs": [],
   "source": [
    "import pandas as pd\n",
    "import requests\n",
    "from bs4 import BeautifulSoup\n",
    "import re\n",
    "\n",
    "res = requests.get('https://projects.fivethirtyeight.com/2020-nba-predictions/')\n",
    "soup = BeautifulSoup(res.content,'lxml')\n",
    "table = soup.find_all('table')[0] \n",
    "table_rows = table.find_all('tr')\n",
    "\n",
    "for tr in table_rows:\n",
    "    td = tr.find_all('td')\n",
    "    row = [tr.text for tr in td]\n",
    "    if len(row) > 0:\n",
    "        digit = (re.search(r'\\d+',row[3]))\n",
    "        type(digit)\n",
    "        ##team = row[3][0:digit]\n",
    "        ##print(team)\n",
    "\n",
    "        ##print(digit.start())\n",
    " \n",
    " \n",
    "    ##print(row[3].split(\"-\"),row[6].split(\"-\"))\n",
    "        ##print(row[3],row[6])\n",
    "#type(td)    \n",
    "#type(row)"
   ]
  },
  {
   "cell_type": "code",
   "execution_count": null,
   "metadata": {},
   "outputs": [],
   "source": []
  },
  {
   "cell_type": "code",
   "execution_count": 56,
   "metadata": {},
   "outputs": [
    {
     "name": "stdout",
     "output_type": "stream",
     "text": [
      "Lakers\n",
      "Actual Record: 49-14\n",
      "Projected Record: 63-19\n",
      "Clippers\n",
      "Actual Record: 44-20\n",
      "Projected Record: 58-24\n",
      "Bucks\n",
      "Actual Record: 53-12\n",
      "Projected Record: 65-17\n",
      "76ers\n",
      "Actual Record: 39-26\n",
      "Projected Record: 51-31\n",
      "Rockets\n",
      "Actual Record: 40-24\n",
      "Projected Record: 52-30\n",
      "Celtics\n",
      "Actual Record: 43-21\n",
      "Projected Record: 56-26\n",
      "Raptors\n",
      "Actual Record: 46-18\n",
      "Projected Record: 57-25\n",
      "Nuggets\n",
      "Actual Record: 43-22\n",
      "Projected Record: 53-29\n",
      "Thunder\n",
      "Actual Record: 40-24\n",
      "Projected Record: 50-32\n",
      "Mavericks\n",
      "Actual Record: 40-27\n",
      "Projected Record: 48-34\n",
      "Pelicans\n",
      "Actual Record: 28-36\n",
      "Projected Record: 40-42\n",
      "Jazz\n",
      "Actual Record: 41-23\n",
      "Projected Record: 51-31\n",
      "Heat\n",
      "Actual Record: 41-24\n",
      "Projected Record: 51-31\n",
      "Pacers\n",
      "Actual Record: 39-26\n",
      "Projected Record: 48-34\n",
      "Trail Blazers\n",
      "Actual Record: 29-37\n",
      "Projected Record: 38-44\n",
      "Magic\n",
      "Actual Record: 30-35\n",
      "Projected Record: 39-43\n",
      "Nets\n",
      "Actual Record: 30-34\n",
      "Projected Record: 36-46\n",
      "Grizzlies\n",
      "Actual Record: 32-33\n",
      "Projected Record: 38-44\n",
      "Kings\n",
      "Actual Record: 28-36\n",
      "Projected Record: 37-45\n",
      "Spurs\n",
      "Actual Record: 27-36\n",
      "Projected Record: 35-47\n",
      "Wizards\n",
      "Actual Record: 24-40\n",
      "Projected Record: 29-53\n",
      "Suns\n",
      "Actual Record: 26-39\n",
      "Projected Record: 33-49\n",
      "Bulls\n",
      "Actual Record: 22-43\n",
      "Projected Record: 27-55\n",
      "Warriors\n",
      "Actual Record: 15-50\n",
      "Projected Record: 22-60\n",
      "Hornets\n",
      "Actual Record: 23-42\n",
      "Projected Record: 28-54\n",
      "Hawks\n",
      "Actual Record: 20-47\n",
      "Projected Record: 26-56\n",
      "Cavaliers\n",
      "Actual Record: 19-46\n",
      "Projected Record: 23-59\n",
      "Timberwolves\n",
      "Actual Record: 19-45\n",
      "Projected Record: 26-56\n",
      "Knicks\n",
      "Actual Record: 21-45\n",
      "Projected Record: 25-57\n",
      "Pistons\n",
      "Actual Record: 20-46\n",
      "Projected Record: 23-59\n",
      "<div class=\"selector\"><select><option selected=\"\" value=\"0\">Today</option><option value=\"1\">March 5</option><option value=\"2\">Feb. 27</option><option value=\"3\">Feb. 20</option><option value=\"4\">Feb. 13</option><option value=\"5\">Feb. 6</option><option value=\"6\">Jan. 30</option><option value=\"7\">Jan. 23</option><option value=\"8\">Jan. 16</option><option value=\"9\">Jan. 9</option><option value=\"10\">Jan. 2</option><option value=\"11\">Dec. 26</option><option value=\"12\">Dec. 19</option><option value=\"13\">Dec. 12</option><option value=\"14\">Dec. 5</option><option value=\"15\">Nov. 28</option><option value=\"16\">Nov. 21</option><option value=\"17\">Nov. 14</option><option value=\"18\">Nov. 7</option><option value=\"19\">Oct. 31</option><option value=\"20\">Oct. 24</option><option value=\"21\">Oct. 22 (final preseason)</option><option value=\"22\">Oct. 17</option><option value=\"23\">Oct. 10</option><option value=\"24\">Oct. 3</option><option value=\"25\">Sept. 26</option><option value=\"26\">Sept. 19</option><option value=\"27\">Aug. 22</option><option value=\"28\">Aug. 8</option><option value=\"29\">Aug. 1</option><option value=\"30\">July 25</option><option value=\"31\">July 18</option><option value=\"32\">July 16</option></select><span class=\"arrow\"></span></div>\n",
      "[]\n"
     ]
    }
   ],
   "source": [
    "import pandas as pd\n",
    "import requests\n",
    "from bs4 import BeautifulSoup\n",
    "import re\n",
    "\n",
    "res = requests.get('https://projects.fivethirtyeight.com/2020-nba-predictions/')\n",
    "soup = BeautifulSoup(res.content,'lxml')\n",
    "table = soup.find_all('table')[0] \n",
    "table_rows = table.find_all('tr')\n",
    "\n",
    "for tr in table_rows:\n",
    "    td = tr.find_all('td')\n",
    "    row = [tr.text for tr in td]\n",
    "    if len(row) > 0:\n",
    "        ##print(row[3],row[6])\n",
    "        \n",
    "        #Split Actual Record from Team Name\n",
    "        first_digit = re.search(r'\\d+',row[3])\n",
    "        team = row[3][0:first_digit.start()]\n",
    "        if team == \"\":\n",
    "            team = '76ers'\n",
    "        else:\n",
    "            team = row[3][0:first_digit.start()]\n",
    "        print(team)\n",
    "        \n",
    "        #Break Out Actual Record\n",
    "        if team == '76ers':\n",
    "            row[3] = row[3][2:]\n",
    "            first_digit = re.search(r'\\d+',row[3])\n",
    "            actual_record = row[3][first_digit.start():first_digit.start()+5]\n",
    "        else:\n",
    "            first_digit = re.search(r'\\d+',row[3])\n",
    "            actual_record = row[3][first_digit.start():first_digit.start()+5]\n",
    "        print(\"Actual Record:\",actual_record)\n",
    "        \n",
    "        #Break Out Actual Wins\n",
    "        \n",
    "        \n",
    "        #Break Out Projected Record\n",
    "        projected_record = row[6]\n",
    "        print(\"Projected Record:\",projected_record)\n",
    "        \n",
    "        #Break out Projected Wins\n",
    "        projected_wins = projected_record[0:2]\n",
    "        #print(projected_wins)\n",
    "        \n",
    "        #Break out Projected Losses\n",
    "        projected_losses = projected_record[3:]\n",
    "        #print(projected_losses)\n",
    "        \n",
    "date = soup.find('div',{\"class\": \"selector\"})\n",
    "print(date)\n",
    "\n",
    "soup = BeautifulSoup(res.content,'lxml')\n",
    "soup['select'] = \"0\"\n",
    "data = soup.findAll(\"table\", {\"style\": \"font-size:14px\"})\n",
    "print(data)\n",
    "        "
   ]
  },
  {
   "cell_type": "code",
   "execution_count": null,
   "metadata": {},
   "outputs": [],
   "source": []
  },
  {
   "cell_type": "code",
   "execution_count": null,
   "metadata": {},
   "outputs": [],
   "source": []
  },
  {
   "cell_type": "code",
   "execution_count": null,
   "metadata": {},
   "outputs": [],
   "source": []
  }
 ],
 "metadata": {
  "kernelspec": {
   "display_name": "Python 3",
   "language": "python",
   "name": "python3"
  },
  "language_info": {
   "codemirror_mode": {
    "name": "ipython",
    "version": 3
   },
   "file_extension": ".py",
   "mimetype": "text/x-python",
   "name": "python",
   "nbconvert_exporter": "python",
   "pygments_lexer": "ipython3",
   "version": "3.7.6"
  }
 },
 "nbformat": 4,
 "nbformat_minor": 4
}
